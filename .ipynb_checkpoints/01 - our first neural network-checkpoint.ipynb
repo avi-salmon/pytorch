{
 "cells": [
  {
   "cell_type": "markdown",
   "id": "3ce54c14-3031-4bac-bc57-5817a905f612",
   "metadata": {},
   "source": [
    "# Lesson 1: Building a Neural Network for MNIST Handwriting Classification with PyTorch\n",
    "Welcome to the first lesson of our PyTorch training course! In this lesson, we'll walk through building a simple neural network to classify handwritten digits from the MNIST dataset. By the end of this lesson, you'll know how to:\n",
    "\n",
    "Install PyTorch\n",
    "Load and preprocess datasets\n",
    "Build a neural network model\n",
    "Train the model\n",
    "Evaluate its performance\n",
    "\n",
    "Let's get started!"
   ]
  },
  {
   "cell_type": "markdown",
   "id": "0d83a243-e352-4c23-a017-ddde5b059dcf",
   "metadata": {},
   "source": [
    "## Part 1: Installing PyTorch\n",
    "First, we need to install PyTorch. You can install it using pip. Run the following command in your terminal or command prompt:"
   ]
  },
  {
   "cell_type": "raw",
   "id": "2100414d-55a0-4565-abb3-345ca7c22293",
   "metadata": {},
   "source": [
    "> pip install torch torchvision"
   ]
  },
  {
   "cell_type": "markdown",
   "id": "d7bc9374-abd8-4a0b-97bb-91bb16c3eec6",
   "metadata": {},
   "source": [
    "## Part 2: Importing Libraries"
   ]
  },
  {
   "cell_type": "code",
   "execution_count": 1,
   "id": "c3946dc5-250f-4a5c-af14-d0b73357ef13",
   "metadata": {},
   "outputs": [],
   "source": [
    "import torch\n",
    "import torchvision\n",
    "import torch.nn as nn\n",
    "import torch.optim as optim\n",
    "import torchvision.transforms as transforms"
   ]
  },
  {
   "cell_type": "markdown",
   "id": "8c8d0924-0a14-477c-8e1f-52c55645aec9",
   "metadata": {},
   "source": [
    "## Part 3: Loading and Preprocessing the MNIST Dataset\n",
    "The MNIST dataset contains 60,000 training images and 10,000 testing images of handwritten digits (0-9). We'll use PyTorch's torchvision to load and preprocess the data.\n",
    "\n",
    "### 3.1 Define Transformations\n",
    "We need to convert the images to tensors and normalize them."
   ]
  },
  {
   "cell_type": "code",
   "execution_count": 2,
   "id": "3e9436a0-75f8-4b0c-9dda-701f645c6b31",
   "metadata": {},
   "outputs": [],
   "source": [
    "transform = transforms.Compose([\n",
    "    transforms.ToTensor(),\n",
    "    transforms.Normalize((0.5,), (0.5,))\n",
    "])\n"
   ]
  },
  {
   "cell_type": "markdown",
   "id": "30190ffc-cdc6-4ce3-b3ae-723ad9f5ae15",
   "metadata": {},
   "source": [
    "This code is setting up a sequence of transformations that will be applied to the MNIST images when they are loaded. Here's a step-by-step explanation:\n",
    "\n",
    "1. transforms.Compose([])\n",
    "What it does: transforms.Compose is a function provided by the torchvision.transforms module. It allows you to chain together multiple image transformations so that they are applied sequentially.\n",
    "Why it's used: It makes the code cleaner and more manageable by grouping all the transformations into one pipeline.\n",
    "2. transforms.ToTensor()\n",
    "What it does: Converts a PIL Image or NumPy ndarray into a PyTorch tensor. Specifically, it transforms the image data from a shape of (H, W, C) with pixel values in the range [0, 255] to a tensor of shape (C, H, W) with pixel values normalized to the range [0.0, 1.0].\n",
    "Why it's used: PyTorch models expect input data in the form of tensors. This transformation ensures that the image data is in the correct format and value range for the model.\n",
    "3. transforms.Normalize((0.5,), (0.5,))\n",
    "What it does: Normalizes the tensor image with mean and standard deviation."
   ]
  },
  {
   "cell_type": "markdown",
   "id": "69c39420-071b-4d9a-9162-aa5a69a63722",
   "metadata": {},
   "source": [
    "### 3.2 Load the Dataset"
   ]
  },
  {
   "cell_type": "code",
   "execution_count": 3,
   "id": "cb120d65-b04a-4fb5-8075-822a7b13fce9",
   "metadata": {},
   "outputs": [
    {
     "name": "stdout",
     "output_type": "stream",
     "text": [
      "Downloading http://yann.lecun.com/exdb/mnist/train-images-idx3-ubyte.gz\n",
      "Failed to download (trying next):\n",
      "HTTP Error 403: Forbidden\n",
      "\n",
      "Downloading https://ossci-datasets.s3.amazonaws.com/mnist/train-images-idx3-ubyte.gz\n",
      "Downloading https://ossci-datasets.s3.amazonaws.com/mnist/train-images-idx3-ubyte.gz to ./data\\MNIST\\raw\\train-images-idx3-ubyte.gz\n"
     ]
    },
    {
     "name": "stderr",
     "output_type": "stream",
     "text": [
      "100.0%\n"
     ]
    },
    {
     "name": "stdout",
     "output_type": "stream",
     "text": [
      "Extracting ./data\\MNIST\\raw\\train-images-idx3-ubyte.gz to ./data\\MNIST\\raw\n",
      "\n",
      "Downloading http://yann.lecun.com/exdb/mnist/train-labels-idx1-ubyte.gz\n",
      "Failed to download (trying next):\n",
      "HTTP Error 403: Forbidden\n",
      "\n",
      "Downloading https://ossci-datasets.s3.amazonaws.com/mnist/train-labels-idx1-ubyte.gz\n",
      "Downloading https://ossci-datasets.s3.amazonaws.com/mnist/train-labels-idx1-ubyte.gz to ./data\\MNIST\\raw\\train-labels-idx1-ubyte.gz\n"
     ]
    },
    {
     "name": "stderr",
     "output_type": "stream",
     "text": [
      "100.0%\n"
     ]
    },
    {
     "name": "stdout",
     "output_type": "stream",
     "text": [
      "Extracting ./data\\MNIST\\raw\\train-labels-idx1-ubyte.gz to ./data\\MNIST\\raw\n",
      "\n",
      "Downloading http://yann.lecun.com/exdb/mnist/t10k-images-idx3-ubyte.gz\n",
      "Failed to download (trying next):\n",
      "HTTP Error 403: Forbidden\n",
      "\n",
      "Downloading https://ossci-datasets.s3.amazonaws.com/mnist/t10k-images-idx3-ubyte.gz\n",
      "Downloading https://ossci-datasets.s3.amazonaws.com/mnist/t10k-images-idx3-ubyte.gz to ./data\\MNIST\\raw\\t10k-images-idx3-ubyte.gz\n"
     ]
    },
    {
     "name": "stderr",
     "output_type": "stream",
     "text": [
      "100.0%\n"
     ]
    },
    {
     "name": "stdout",
     "output_type": "stream",
     "text": [
      "Extracting ./data\\MNIST\\raw\\t10k-images-idx3-ubyte.gz to ./data\\MNIST\\raw\n",
      "\n",
      "Downloading http://yann.lecun.com/exdb/mnist/t10k-labels-idx1-ubyte.gz\n",
      "Failed to download (trying next):\n",
      "HTTP Error 403: Forbidden\n",
      "\n",
      "Downloading https://ossci-datasets.s3.amazonaws.com/mnist/t10k-labels-idx1-ubyte.gz\n",
      "Downloading https://ossci-datasets.s3.amazonaws.com/mnist/t10k-labels-idx1-ubyte.gz to ./data\\MNIST\\raw\\t10k-labels-idx1-ubyte.gz\n"
     ]
    },
    {
     "name": "stderr",
     "output_type": "stream",
     "text": [
      "100.0%"
     ]
    },
    {
     "name": "stdout",
     "output_type": "stream",
     "text": [
      "Extracting ./data\\MNIST\\raw\\t10k-labels-idx1-ubyte.gz to ./data\\MNIST\\raw\n",
      "\n"
     ]
    },
    {
     "name": "stderr",
     "output_type": "stream",
     "text": [
      "\n"
     ]
    }
   ],
   "source": [
    "trainset = torchvision.datasets.MNIST(root='./data', train=True, download=True, transform=transform)\n",
    "testset = torchvision.datasets.MNIST(root='./data', train=False, download=True, transform=transform)\n"
   ]
  },
  {
   "cell_type": "markdown",
   "id": "0d513cad-ad37-4fef-acf0-fcb4d24c72ba",
   "metadata": {},
   "source": [
    "### 3.3 Create Data Loaders\n",
    "Data loaders help us iterate over the dataset in batches."
   ]
  },
  {
   "cell_type": "code",
   "execution_count": 4,
   "id": "63c0d182-25f8-44f1-9adb-4a63615c6967",
   "metadata": {},
   "outputs": [],
   "source": [
    "trainloader = torch.utils.data.DataLoader(trainset, batch_size=64, shuffle=True)\n",
    "testloader = torch.utils.data.DataLoader(testset, batch_size=64, shuffle=False)"
   ]
  },
  {
   "cell_type": "markdown",
   "id": "761a6679-a081-4c4a-a1a3-05f7a3243973",
   "metadata": {},
   "source": [
    "## Part 4: Building the Neural Network\n",
    "We'll define a simple feedforward neural network using PyTorch's nn.Module."
   ]
  },
  {
   "cell_type": "code",
   "execution_count": null,
   "id": "800f51ee-c8ae-492e-a3e2-59e618aa008a",
   "metadata": {},
   "outputs": [],
   "source": []
  }
 ],
 "metadata": {
  "kernelspec": {
   "display_name": "Python 3 (ipykernel)",
   "language": "python",
   "name": "python3"
  },
  "language_info": {
   "codemirror_mode": {
    "name": "ipython",
    "version": 3
   },
   "file_extension": ".py",
   "mimetype": "text/x-python",
   "name": "python",
   "nbconvert_exporter": "python",
   "pygments_lexer": "ipython3",
   "version": "3.12.6"
  }
 },
 "nbformat": 4,
 "nbformat_minor": 5
}
